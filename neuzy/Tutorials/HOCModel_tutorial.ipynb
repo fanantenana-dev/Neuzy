{
 "cells": [
  {
   "cell_type": "markdown",
   "metadata": {},
   "source": [
    "## Neuzy HOC Model Tutorial ipynb\n",
    "\n",
    "Unlike quick start, this \"start\" file contains explicit calling and argument fetching of the classes for Neuzy.\n",
    "It can also serve as a handy introduction."
   ]
  },
  {
   "cell_type": "markdown",
   "metadata": {},
   "source": [
    "Importing the modules of Neuzy.\n",
    "Import goes from PYTHONPATH which should be the root of the repository."
   ]
  },
  {
   "cell_type": "markdown",
   "metadata": {},
   "source": [
    "### Imports"
   ]
  },
  {
   "cell_type": "code",
   "execution_count": null,
   "metadata": {},
   "outputs": [],
   "source": [
    "from neuzy.paropt.models.Parallizers import MPIpar          # Parallelization Class\n",
    "from neuzy.paropt.models.HocModel import HocModel           # Model Class to read in HOC and have methods on the model\n",
    "from neuzy.paropt.models.Stims import Firstspike_SortOutStim           # Stim protocol class\n",
    "from neuzy.paropt.models.Calculations import FitnessCalcSD  # Calculations for Fitness\n",
    "from neuzy.paropt.models.Optimizers import ScipyOpt         # Optimizer\n",
    "from neuzy.paropt.models.Simulations import GenSim          # Run all objects in concatenation"
   ]
  },
  {
   "cell_type": "markdown",
   "metadata": {},
   "source": [
    "### Creating the objects"
   ]
  },
  {
   "cell_type": "markdown",
   "metadata": {},
   "source": [
    "#### Creating the HOC Model.\n",
    "HocModel() inherits from GenModel().\n",
    "For the full possible arguments that can be given, check the declaration/definition of HocModel."
   ]
  },
  {
   "cell_type": "code",
   "execution_count": null,
   "metadata": {},
   "outputs": [],
   "source": [
    "# Most arguments are optional\n",
    "hoc_1 = HocModel(   \n",
    "                        model_name = \"Roe22_2.hoc\",               # specify your model name or path, which is in /data/morphos folder.\n",
    "                        modpath = None,                           # specify modpath, automatically set to data/mods/x86_64  - you have to compile them before usage with nrnivmodl.\n",
    "                        target_feature_file = \"somatic_features_hippounit.json\", # specify your experimental or target feature data / json file \n",
    "                        template_name = \"Roe22_reduced_CA1\",      # optional, give template name of the HOC file\n",
    "                        hippo_bAP = True,                         # updated soon TODO\n",
    "                        channelblocknames = None,                 # sets the channels which are given in string or list of strings to 0\n",
    "                        verbose = True,                           # prints a bit more\n",
    "                        parameterkeywords = [\"bar\"]               # Parameter Keywords from psection() density mechs, which are to be used.  \n",
    "                        )"
   ]
  },
  {
   "cell_type": "markdown",
   "metadata": {},
   "source": [
    "#### Parallizer MPI object to set the parallelization method to MPI"
   ]
  },
  {
   "cell_type": "code",
   "execution_count": null,
   "metadata": {},
   "outputs": [],
   "source": [
    "mpi_1 = MPIpar( populationsize = 100 )    # Generates up to 100 optimized models that are within the cost thresholds."
   ]
  },
  {
   "cell_type": "markdown",
   "metadata": {},
   "source": [
    "#### Stim Object, where stimulation parameters are defined for NEURON\n",
    "\n",
    "Using Firstspike_SortOutStim() which inherits from GenStim() to also include a faster way to check if a model spikes sufficiently before going into the optimizer. See documentation."
   ]
  },
  {
   "cell_type": "code",
   "execution_count": null,
   "metadata": {},
   "outputs": [],
   "source": [
    "## Stimulation object with stimulation delay, duration, timestop.\n",
    "\n",
    "# Stepamps and Clamp which should be used. \n",
    "\n",
    "# Have to be in accordance to your target feature data, otherwise you cannot compare features for the same step amplitude.\n",
    "stepamps = {'Step-04': -0.4, 'Step08' : 0.8} \n",
    "clamp = 'IClamp'        # name should equal a HocObject method to define clamp. E.g. h.IClamp or 'VClamp' for h.VClamp\n",
    "\n",
    "stim_1 = Firstspike_SortOutStim(    # inherited from GenStim()\n",
    "                                    delay = 150,            \n",
    "                                    duration = 400,         \n",
    "                                    tstop = 750,            \n",
    "                                    cvode_active = None,    \n",
    "                                    stepamps = stepamps,    \n",
    "                                    clamp = clamp,          \n",
    "\n",
    "                                    section_locations_dict = None,    # TODO, automatically create a dictionary with recording vectors for all sections of the morphology\n",
    "\n",
    "                                    # FirstSpike_SortOutStim parameters for very fast stimulation, that only checks for sufficient first AP of a trace.\n",
    "                                    # i.e. models have to spike to be seen as good enough for full stimulations.\n",
    "                                    delay_firstspike = 50, \n",
    "                                    duration_firstspike = 65, \n",
    "                                    tstop_firstspike = 150    \n",
    "                                    )    "
   ]
  },
  {
   "cell_type": "markdown",
   "metadata": {},
   "source": [
    "#### Calculation Object, to determine which Calculation should be chosen.\n",
    "FitnessCalcSD() inherits from GenCalc() and calculates the Cost/Fitness values depending on SD."
   ]
  },
  {
   "cell_type": "code",
   "execution_count": null,
   "metadata": {},
   "outputs": [],
   "source": [
    "calc_1 = FitnessCalcSD()"
   ]
  },
  {
   "cell_type": "markdown",
   "metadata": {},
   "source": [
    "#### Optimizer Object, to determine which Optimizer should be chosen.\n",
    "ScipyOpt() inherits from GenOpt()."
   ]
  },
  {
   "cell_type": "code",
   "execution_count": null,
   "metadata": {},
   "outputs": [],
   "source": [
    "## Optimizer used from Scipy - hence the name. \n",
    "# TODO add more options, e.g. DEAP\n",
    "\n",
    "opt_1 = ScipyOpt( \n",
    "                    method = \"Nelder-Mead\",             # Optimization with Nelder-Mead algorithm, also 'L-BFGS-B' or Conjugate Gradient 'CG'\n",
    "                    init_cost_threshold = 2,            # Cost threshold, which immediately sees a parameter combination of the model as sufficient  \n",
    "                    init_cost_optimizer_threshold = 5   # Cost threshold, which is low enough to be further optimized. Models above are disregarded and recreated.\n",
    "                    )         "
   ]
  },
  {
   "cell_type": "markdown",
   "metadata": {},
   "source": [
    "#### Putting them all together\n",
    "GenSim() is the general Simulation class, which runs all defined objects combined."
   ]
  },
  {
   "cell_type": "code",
   "execution_count": null,
   "metadata": {},
   "outputs": [],
   "source": [
    "## Running default config\n",
    "run_instance_1 = GenSim(par = mpi_1, model = hoc_1, stim = stim_1, opt = opt_1, calc = calc_1)\n",
    "\n",
    "## Call the objects together\n",
    "run_instance_1.run()"
   ]
  },
  {
   "cell_type": "markdown",
   "metadata": {},
   "source": [
    "#### Outputs\n",
    "\n",
    "Check log files or terminal output to see the status of the run.\n",
    "Enjoy."
   ]
  }
 ],
 "metadata": {
  "kernelspec": {
   "display_name": "Python 3.8.13 ('neuzy')",
   "language": "python",
   "name": "python3"
  },
  "language_info": {
   "name": "python",
   "version": "3.8.13"
  },
  "orig_nbformat": 4,
  "vscode": {
   "interpreter": {
    "hash": "ba5dac12789b97f92d255111b994e00980646ccf46e1d842857f57bfc71b4f5d"
   }
  }
 },
 "nbformat": 4,
 "nbformat_minor": 2
}
